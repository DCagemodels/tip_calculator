{
 "cells": [
  {
   "cell_type": "markdown",
   "metadata": {},
   "source": [
    "Math for Tip calculator (bill / people) * 1.10 or 1.12 or 1.15"
   ]
  },
  {
   "cell_type": "code",
   "execution_count": 1,
   "metadata": {},
   "outputs": [
    {
     "name": "stdout",
     "output_type": "stream",
     "text": [
      "Welcome to the tip calculator.\n",
      "Each person should pay: $66.45\n"
     ]
    }
   ],
   "source": [
    "print(\"Welcome to the tip calculator.\")\n",
    "bill = float(input(\"What was your total bill? \" + \"$\"))\n",
    "percentage = float(input(\"What percentage tip would you like to give? \" + \"10, 12, or 15? \"))\n",
    "people = float(input(\"How many people to split the bill? \"))\n",
    "\n",
    "if (percentage == 10):\n",
    "    percentage = 1.10\n",
    "elif (percentage == 12):\n",
    "    percentage = 1.12\n",
    "elif (percentage == 15):\n",
    "    percentage = 1.15\n",
    "    \n",
    "calculate = ((bill / people) * percentage)\n",
    "\n",
    "print(f\"Each person should pay: ${calculate:.2f}\")\n"
   ]
  }
 ],
 "metadata": {
  "kernelspec": {
   "display_name": "base",
   "language": "python",
   "name": "python3"
  },
  "language_info": {
   "codemirror_mode": {
    "name": "ipython",
    "version": 3
   },
   "file_extension": ".py",
   "mimetype": "text/x-python",
   "name": "python",
   "nbconvert_exporter": "python",
   "pygments_lexer": "ipython3",
   "version": "3.11.5"
  }
 },
 "nbformat": 4,
 "nbformat_minor": 2
}
